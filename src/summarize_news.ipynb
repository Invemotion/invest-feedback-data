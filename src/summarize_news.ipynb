{
 "cells": [
  {
   "cell_type": "markdown",
   "id": "7ad77039",
   "metadata": {},
   "source": [
    "| 단계             | 핵심 로직                                                                      | 주요 라이브러리                                                          |\n",
    "| -------------- | ---------------------------------------------------------------------------- | ----------------------------------------------------------------- |\n",
    "| 📥 **로드**      | `pd.read_json()`으로 한 줄 JSON 배열을 DataFrame화                                   | pandas                                                            |\n",
    "| 🧹 **전처리**     | `str.split('[SEP]')`로 **제목/본문 분리**, 특수문자·광고 제거,<br>512 토큰 관리 *(Truncation 또는 Summary)* | re, pandas                                                        |\n",
    "| ✂️ **요약 (선택)** | 본문이 길면 **KoBART summarizer**로 3–5문장 요약                                     | transformers (`gogamza/kobart-summarization`)  |\n",
    "| 🏷 **감정 분류**   | `snunlp/KR-FinBERT-SC` → Softmax → *pos/neu/neg* 확률                        | transformers, **torch** ([Hugging Face][2])                       |\n",
    "| 📊 **집계**      | `groupby('stock_name').agg()`로 **종목별 평균·비율** 계산 → 일일 Sentiment Index       | pandas                                                            |\n",
    "| 📤 **저장/연계**   | 기사단위 결과 `news_2025-08-05_sent_scored.jsonl`,<br>집계 결과 `daily_sentiment_20250805.csv` | —                                                                 |\n",
    "\n",
    "[2]: https://huggingface.co/snunlp/KR-FinBERT-SC \"snunlp/KR-FinBERT-SC on Hugging Face\"\n"
   ]
  },
  {
   "cell_type": "code",
   "execution_count": null,
   "id": "a5f652d5",
   "metadata": {},
   "outputs": [
    {
     "name": "stdout",
     "output_type": "stream",
     "text": [
      "[   0.0s] 실행 디바이스: mps\n",
      "[   0.1s] 뉴스 로드 완료: 728건\n",
      "[   0.1s] 제목/본문 분리 완료\n",
      "[   0.1s] KoBART 요약 모델 로딩 중…\n"
     ]
    },
    {
     "name": "stderr",
     "output_type": "stream",
     "text": [
      "You passed `num_labels=3` which is incompatible to the `id2label` map of length `2`.\n",
      "You passed `num_labels=3` which is incompatible to the `id2label` map of length `2`.\n",
      "You passed `num_labels=3` which is incompatible to the `id2label` map of length `2`.\n"
     ]
    },
    {
     "name": "stdout",
     "output_type": "stream",
     "text": [
      "[   3.7s] 본문 요약 시작…\n"
     ]
    },
    {
     "data": {
      "application/vnd.jupyter.widget-view+json": {
       "model_id": "daceedb940d44026b45720a30e6850ba",
       "version_major": 2,
       "version_minor": 0
      },
      "text/plain": [
       "Progress:   0%|          | 0/728 [00:00<?, ?it/s]"
      ]
     },
     "metadata": {},
     "output_type": "display_data"
    },
    {
     "name": "stdout",
     "output_type": "stream",
     "text": [
      "[1607.7s] 본문 요약 완료\n",
      "[1607.7s] FinBERT 모델 로딩 중…\n",
      "[1610.5s] 감정 점수 산출 중…\n"
     ]
    },
    {
     "data": {
      "application/vnd.jupyter.widget-view+json": {
       "model_id": "d677ff1f551a4950a31a95b2ef515969",
       "version_major": 2,
       "version_minor": 0
      },
      "text/plain": [
       "Progress:   0%|          | 0/728 [00:00<?, ?it/s]"
      ]
     },
     "metadata": {},
     "output_type": "display_data"
    },
    {
     "name": "stdout",
     "output_type": "stream",
     "text": [
      "[1651.0s] 감정 분석 완료\n",
      "[1651.0s] 집계 완료\n",
      "[1651.1s] 파일 저장 완료 → news_2025-08-05_sent_scored.jsonl / daily_sentiment_20250805.csv\n"
     ]
    }
   ],
   "source": [
    "# sentiment_pipeline.py\n",
    "import re, time, json, torch, pandas as pd\n",
    "from pathlib import Path\n",
    "from tqdm.auto import tqdm\n",
    "from transformers import (\n",
    "    AutoTokenizer, AutoModelForSequenceClassification, pipeline,\n",
    "    BartForConditionalGeneration\n",
    ")\n",
    "\n",
    "# ─────────────────────────────────────────────────────────────\n",
    "# 0) 환경 설정\n",
    "# ─────────────────────────────────────────────────────────────\n",
    "DEVICE = \"mps\" \n",
    "# if torch.cuda.is_available() else \"cpu\"\n",
    "# torch.set_num_threads(torch.get_num_threads())           # CPU 멀티스레드\n",
    "\n",
    "tqdm.pandas(desc=\"Progress\")                             # pandas + tqdm 결합\n",
    "start_time = time.perf_counter()\n",
    "\n",
    "def log(msg: str):\n",
    "    elapsed = time.perf_counter() - start_time\n",
    "    print(f\"[{elapsed:6.1f}s] {msg}\")\n",
    "\n",
    "log(f\"실행 디바이스: {DEVICE}\")\n",
    "\n",
    "# ─────────────────────────────────────────────────────────────\n",
    "# 1) 데이터 로드\n",
    "# ─────────────────────────────────────────────────────────────\n",
    "INPUT_FILE = Path(\"/Users/yujimin/KB AI CHALLENGE/project/llm_input/news_2025-08-05.json\")\n",
    "df = pd.read_json(INPUT_FILE)\n",
    "log(f\"뉴스 로드 완료: {len(df):,}건\")\n",
    "\n",
    "# ─────────────────────────────────────────────────────────────\n",
    "# 2) 제목 · 본문 분리\n",
    "# ─────────────────────────────────────────────────────────────\n",
    "def split_text(txt: str):\n",
    "    title, *body = re.split(r'\\s*\\[SEP\\]\\s*', txt, maxsplit=1)\n",
    "    return pd.Series([title.strip(), body[0].strip() if body else \"\"])\n",
    "\n",
    "df[[\"title\", \"body\"]] = df[\"text\"].apply(split_text)\n",
    "log(\"제목/본문 분리 완료\")\n",
    "\n",
    "# ─────────────────────────────────────────────────────────────\n",
    "# 3) (옵션) KoBART 요약\n",
    "# ─────────────────────────────────────────────────────────────\n",
    "USE_SUMMARY = True\n",
    "if USE_SUMMARY:\n",
    "    log(\"KoBART 요약 모델 로딩 중…\")\n",
    "    SUM_MODEL_NAME = \"gogamza/kobart-summarization\"\n",
    "    sum_tok = AutoTokenizer.from_pretrained(SUM_MODEL_NAME)\n",
    "    sum_mod = BartForConditionalGeneration.from_pretrained(SUM_MODEL_NAME).to(DEVICE)\n",
    "\n",
    "    @torch.inference_mode()\n",
    "    def summarize(txt: str) -> str:\n",
    "        inputs = sum_tok(txt, return_tensors=\"pt\", max_length=1024,\n",
    "                         truncation=True).to(DEVICE)\n",
    "        inputs.pop(\"token_type_ids\", None)   # BART는 필요 없음\n",
    "        summary_ids = sum_mod.generate(**inputs,\n",
    "                                       max_length=128, min_length=40,\n",
    "                                       do_sample=False)\n",
    "        return sum_tok.decode(summary_ids[0], skip_special_tokens=True).strip()\n",
    "\n",
    "    log(\"본문 요약 시작…\")\n",
    "    df[\"body\"] = df[\"body\"].progress_apply(summarize)\n",
    "    log(\"본문 요약 완료\")\n",
    "\n",
    "# ─────────────────────────────────────────────────────────────\n",
    "# 4) KR-FinBERT 감정 분석\n",
    "# ─────────────────────────────────────────────────────────────\n",
    "log(\"FinBERT 모델 로딩 중…\")\n",
    "FINBERT_NAME = \"snunlp/KR-FinBERT-SC\"\n",
    "tok = AutoTokenizer.from_pretrained(FINBERT_NAME)\n",
    "mod = AutoModelForSequenceClassification.from_pretrained(FINBERT_NAME).to(DEVICE)\n",
    "\n",
    "@torch.inference_mode()\n",
    "def classify(title: str, body: str):\n",
    "    enc = tok(title, body, truncation=True,\n",
    "              max_length=512, return_tensors=\"pt\").to(DEVICE)\n",
    "    probs = mod(**enc).logits.softmax(-1)[0].cpu().tolist()   # [neg, neu, pos]\n",
    "    return probs\n",
    "\n",
    "def score_row(row):\n",
    "    neg, neu, pos = classify(row.title, row.body)\n",
    "    return pd.Series({\"neg\": neg, \"neu\": neu, \"pos\": pos})\n",
    "\n",
    "log(\"감정 점수 산출 중…\")\n",
    "df[[\"neg\", \"neu\", \"pos\"]] = df.progress_apply(score_row, axis=1)\n",
    "log(\"감정 분석 완료\")\n",
    "\n",
    "# ─────────────────────────────────────────────────────────────\n",
    "# 5) 종목별 집계\n",
    "# ─────────────────────────────────────────────────────────────\n",
    "agg = (df.groupby(\"stock_name\")\n",
    "         .agg(article_cnt=(\"pos\", \"size\"),\n",
    "              pos_mean=(\"pos\", \"mean\"),\n",
    "              neg_mean=(\"neg\", \"mean\"),\n",
    "              neu_mean=(\"neu\", \"mean\"))\n",
    "         .reset_index())\n",
    "log(\"집계 완료\")\n",
    "\n",
    "# ─────────────────────────────────────────────────────────────\n",
    "# 6) 결과 저장\n",
    "# ─────────────────────────────────────────────────────────────\n",
    "# df_out  = Path(\"news_2025-08-05_sent_scored.jsonl\")\n",
    "df_out  = Path(\"news_2025-08-05_sent_scored.csv\")\n",
    "agg_out = Path(\"daily_sentiment_20250805.csv\")\n",
    "\n",
    "# df.to_json(df_out, orient=\"records\", lines=True, force_ascii=False)\n",
    "df.to_csv(df_out, index=False)\n",
    "agg.to_csv(agg_out, index=False)\n",
    "log(f\"파일 저장 완료 → {df_out} / {agg_out}\")\n"
   ]
  },
  {
   "cell_type": "code",
   "execution_count": 12,
   "id": "c7bf5a61",
   "metadata": {},
   "outputs": [],
   "source": [
    "df_out  = Path(\"news_2025-08-05_sent_scored.csv\")\n",
    "df.to_csv(df_out, index=False)"
   ]
  },
  {
   "cell_type": "code",
   "execution_count": null,
   "id": "8681d3f1",
   "metadata": {},
   "outputs": [],
   "source": []
  }
 ],
 "metadata": {
  "kernelspec": {
   "display_name": "Python 3",
   "language": "python",
   "name": "python3"
  },
  "language_info": {
   "codemirror_mode": {
    "name": "ipython",
    "version": 3
   },
   "file_extension": ".py",
   "mimetype": "text/x-python",
   "name": "python",
   "nbconvert_exporter": "python",
   "pygments_lexer": "ipython3",
   "version": "3.13.1"
  }
 },
 "nbformat": 4,
 "nbformat_minor": 5
}
